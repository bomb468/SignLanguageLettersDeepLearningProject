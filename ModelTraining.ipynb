{
 "cells": [
  {
   "cell_type": "markdown",
   "metadata": {},
   "source": [
    "# Importing The Libraries"
   ]
  },
  {
   "cell_type": "code",
   "execution_count": 1,
   "metadata": {},
   "outputs": [],
   "source": [
    "from os import listdir\n",
    "from os.path import isfile, join\n",
    "import numpy as np\n",
    "import cv2\n",
    "from sklearn.utils import shuffle\n",
    "import matplotlib.pyplot as plt\n",
    "from sklearn.model_selection import train_test_split \n",
    "from keras.preprocessing import image\n",
    "from tensorflow.keras.preprocessing.image import ImageDataGenerator\n",
    "from tensorflow.keras import optimizers\n",
    "from tensorflow.keras.models import Sequential\n",
    "from tensorflow.keras.layers import Convolution2D,MaxPooling2D,Activation, Dropout, Flatten, Dense, BatchNormalization"
   ]
  },
  {
   "cell_type": "code",
   "execution_count": 2,
   "metadata": {},
   "outputs": [],
   "source": [
    "import mediapipe as mp\n",
    "import uuid"
   ]
  },
  {
   "cell_type": "code",
   "execution_count": 3,
   "metadata": {},
   "outputs": [],
   "source": [
    "mp_drawing = mp.solutions.drawing_utils\n",
    "mp_hands = mp.solutions.hands"
   ]
  },
  {
   "cell_type": "markdown",
   "metadata": {},
   "source": [
    "# Things that will make sense later"
   ]
  },
  {
   "cell_type": "code",
   "execution_count": 4,
   "metadata": {},
   "outputs": [],
   "source": [
    "X=[]\n",
    "Y=[]"
   ]
  },
  {
   "cell_type": "code",
   "execution_count": 5,
   "metadata": {},
   "outputs": [],
   "source": [
    "def oldListToNewList(oldList):\n",
    "    newList=[]\n",
    "    oldList = np.array(oldList)\n",
    "    for i in range(20):\n",
    "        for j in range(i+1,21):\n",
    "            newList.append(((oldList[i][0]-oldList[j][0])**2+(oldList[i][1]-oldList[j][1])**2))\n",
    "    for i in range(21):\n",
    "        newList.append(oldList[i][2])\n",
    "    if (len(oldList)==0):\n",
    "        print(\"Zero\")\n",
    "    return newList"
   ]
  },
  {
   "cell_type": "markdown",
   "metadata": {},
   "source": [
    "I've recorded videos of my hand to make the training data, This piece will just read those videos and get the hand co-ordinates of every letters, then getting the distance between the 21 points that we get and their z co-ordinates and storint it in an array for our training data.\n",
    "\n",
    "Here's a reference video link which uses the media pipe to get co-ordinates of hands :- https://youtu.be/p5Z_GGRCI5s"
   ]
  },
  {
   "cell_type": "code",
   "execution_count": 6,
   "metadata": {},
   "outputs": [
    {
     "name": "stdout",
     "output_type": "stream",
     "text": [
      "a\n",
      "b\n",
      "c\n",
      "d\n",
      "e\n",
      "f\n",
      "g\n",
      "h\n",
      "i\n",
      "j\n",
      "k\n",
      "l\n",
      "m\n",
      "n\n",
      "o\n",
      "p\n",
      "q\n",
      "r\n",
      "s\n",
      "t\n",
      "u\n",
      "v\n",
      "w\n",
      "x\n",
      "y\n",
      "z\n"
     ]
    }
   ],
   "source": [
    "alphabets=\"abcdefghijklmnopqrstuvwxyz\"\n",
    "for i in range(len(alphabets)):\n",
    "    mypath='D:/HandPhotos/'+alphabets[i]\n",
    "    onlyfiles = [ f for f in listdir(mypath) if isfile(join(mypath,f)) ]\n",
    "    for n in range(0, len(onlyfiles)):\n",
    "        img=cv2.imread(join(mypath,onlyfiles[n]))\n",
    "        img = cv2.resize(img, (1000, 600))\n",
    "        img = cv2.cvtColor(img, cv2.COLOR_BGR2RGB)\n",
    "        with mp_hands.Hands(min_detection_confidence=0.8, min_tracking_confidence=0.5) as hands:\n",
    "            results = hands.process(img)\n",
    "        ListOfCoOrdinates=[]\n",
    "        if (results.multi_hand_landmarks is not None): \n",
    "            ListOfCoOrdinates.append([results.multi_hand_landmarks[0].landmark[mp_hands.HandLandmark.WRIST].x,\n",
    "                results.multi_hand_landmarks[0].landmark[mp_hands.HandLandmark.WRIST].y,\n",
    "                results.multi_hand_landmarks[0].landmark[mp_hands.HandLandmark.WRIST].z])\n",
    "            ListOfCoOrdinates.append([results.multi_hand_landmarks[0].landmark[mp_hands.HandLandmark.THUMB_CMC].x,\n",
    "                results.multi_hand_landmarks[0].landmark[mp_hands.HandLandmark.THUMB_CMC].y,\n",
    "                results.multi_hand_landmarks[0].landmark[mp_hands.HandLandmark.THUMB_CMC].z])\n",
    "            ListOfCoOrdinates.append([results.multi_hand_landmarks[0].landmark[mp_hands.HandLandmark.THUMB_MCP].x,\n",
    "                results.multi_hand_landmarks[0].landmark[mp_hands.HandLandmark.THUMB_MCP].y,\n",
    "                results.multi_hand_landmarks[0].landmark[mp_hands.HandLandmark.THUMB_MCP].z])\n",
    "            ListOfCoOrdinates.append([results.multi_hand_landmarks[0].landmark[mp_hands.HandLandmark.THUMB_IP].x,\n",
    "                results.multi_hand_landmarks[0].landmark[mp_hands.HandLandmark.THUMB_IP].y,\n",
    "                results.multi_hand_landmarks[0].landmark[mp_hands.HandLandmark.THUMB_IP].z])\n",
    "            ListOfCoOrdinates.append([results.multi_hand_landmarks[0].landmark[mp_hands.HandLandmark.THUMB_TIP].x,\n",
    "                results.multi_hand_landmarks[0].landmark[mp_hands.HandLandmark.THUMB_TIP].y,\n",
    "                results.multi_hand_landmarks[0].landmark[mp_hands.HandLandmark.THUMB_TIP].z])\n",
    "            ListOfCoOrdinates.append([results.multi_hand_landmarks[0].landmark[mp_hands.HandLandmark.INDEX_FINGER_MCP].x,\n",
    "                results.multi_hand_landmarks[0].landmark[mp_hands.HandLandmark.INDEX_FINGER_MCP].y,\n",
    "                results.multi_hand_landmarks[0].landmark[mp_hands.HandLandmark.INDEX_FINGER_MCP].z])\n",
    "            ListOfCoOrdinates.append([results.multi_hand_landmarks[0].landmark[mp_hands.HandLandmark.INDEX_FINGER_PIP].x,\n",
    "                results.multi_hand_landmarks[0].landmark[mp_hands.HandLandmark.INDEX_FINGER_PIP].y,\n",
    "                results.multi_hand_landmarks[0].landmark[mp_hands.HandLandmark.INDEX_FINGER_PIP].z])\n",
    "            ListOfCoOrdinates.append([results.multi_hand_landmarks[0].landmark[mp_hands.HandLandmark.INDEX_FINGER_DIP].x,\n",
    "                results.multi_hand_landmarks[0].landmark[mp_hands.HandLandmark.INDEX_FINGER_DIP].y,\n",
    "                results.multi_hand_landmarks[0].landmark[mp_hands.HandLandmark.INDEX_FINGER_DIP].z])\n",
    "            ListOfCoOrdinates.append([results.multi_hand_landmarks[0].landmark[mp_hands.HandLandmark.INDEX_FINGER_TIP].x,\n",
    "                results.multi_hand_landmarks[0].landmark[mp_hands.HandLandmark.INDEX_FINGER_TIP].y,\n",
    "                results.multi_hand_landmarks[0].landmark[mp_hands.HandLandmark.INDEX_FINGER_TIP].z])\n",
    "            ListOfCoOrdinates.append([results.multi_hand_landmarks[0].landmark[mp_hands.HandLandmark.MIDDLE_FINGER_MCP].x,\n",
    "                results.multi_hand_landmarks[0].landmark[mp_hands.HandLandmark.MIDDLE_FINGER_MCP].y,\n",
    "                results.multi_hand_landmarks[0].landmark[mp_hands.HandLandmark.MIDDLE_FINGER_MCP].z])\n",
    "            ListOfCoOrdinates.append([results.multi_hand_landmarks[0].landmark[mp_hands.HandLandmark.MIDDLE_FINGER_PIP].x,\n",
    "                results.multi_hand_landmarks[0].landmark[mp_hands.HandLandmark.MIDDLE_FINGER_PIP].y,\n",
    "                results.multi_hand_landmarks[0].landmark[mp_hands.HandLandmark.MIDDLE_FINGER_PIP].z])\n",
    "            ListOfCoOrdinates.append([results.multi_hand_landmarks[0].landmark[mp_hands.HandLandmark.MIDDLE_FINGER_DIP].x,\n",
    "                results.multi_hand_landmarks[0].landmark[mp_hands.HandLandmark.MIDDLE_FINGER_DIP].y,\n",
    "                results.multi_hand_landmarks[0].landmark[mp_hands.HandLandmark.MIDDLE_FINGER_DIP].z])\n",
    "            ListOfCoOrdinates.append([results.multi_hand_landmarks[0].landmark[mp_hands.HandLandmark.MIDDLE_FINGER_TIP].x,\n",
    "                results.multi_hand_landmarks[0].landmark[mp_hands.HandLandmark.MIDDLE_FINGER_TIP].y,\n",
    "                results.multi_hand_landmarks[0].landmark[mp_hands.HandLandmark.MIDDLE_FINGER_TIP].z])\n",
    "            ListOfCoOrdinates.append([results.multi_hand_landmarks[0].landmark[mp_hands.HandLandmark.RING_FINGER_MCP].x,\n",
    "                results.multi_hand_landmarks[0].landmark[mp_hands.HandLandmark.RING_FINGER_MCP].y,\n",
    "                results.multi_hand_landmarks[0].landmark[mp_hands.HandLandmark.RING_FINGER_MCP].z])\n",
    "            ListOfCoOrdinates.append([results.multi_hand_landmarks[0].landmark[mp_hands.HandLandmark.RING_FINGER_PIP].x,\n",
    "                results.multi_hand_landmarks[0].landmark[mp_hands.HandLandmark.RING_FINGER_PIP].y,\n",
    "                results.multi_hand_landmarks[0].landmark[mp_hands.HandLandmark.RING_FINGER_PIP].z])\n",
    "            ListOfCoOrdinates.append([results.multi_hand_landmarks[0].landmark[mp_hands.HandLandmark.RING_FINGER_DIP].x,\n",
    "                results.multi_hand_landmarks[0].landmark[mp_hands.HandLandmark.RING_FINGER_DIP].y,\n",
    "                results.multi_hand_landmarks[0].landmark[mp_hands.HandLandmark.RING_FINGER_DIP].z])\n",
    "            ListOfCoOrdinates.append([results.multi_hand_landmarks[0].landmark[mp_hands.HandLandmark.RING_FINGER_TIP].x,\n",
    "                results.multi_hand_landmarks[0].landmark[mp_hands.HandLandmark.RING_FINGER_TIP].y,\n",
    "                results.multi_hand_landmarks[0].landmark[mp_hands.HandLandmark.RING_FINGER_TIP].z])\n",
    "            ListOfCoOrdinates.append([results.multi_hand_landmarks[0].landmark[mp_hands.HandLandmark.PINKY_MCP].x,\n",
    "                results.multi_hand_landmarks[0].landmark[mp_hands.HandLandmark.PINKY_MCP].y,\n",
    "                results.multi_hand_landmarks[0].landmark[mp_hands.HandLandmark.PINKY_MCP ].z])\n",
    "            ListOfCoOrdinates.append([results.multi_hand_landmarks[0].landmark[mp_hands.HandLandmark.PINKY_PIP].x,\n",
    "                results.multi_hand_landmarks[0].landmark[mp_hands.HandLandmark.PINKY_PIP].y,\n",
    "                results.multi_hand_landmarks[0].landmark[mp_hands.HandLandmark.PINKY_PIP ].z])\n",
    "            ListOfCoOrdinates.append([results.multi_hand_landmarks[0].landmark[mp_hands.HandLandmark.PINKY_DIP].x,\n",
    "                results.multi_hand_landmarks[0].landmark[mp_hands.HandLandmark.PINKY_DIP].y,\n",
    "                results.multi_hand_landmarks[0].landmark[mp_hands.HandLandmark.PINKY_DIP ].z])\n",
    "            ListOfCoOrdinates.append([results.multi_hand_landmarks[0].landmark[mp_hands.HandLandmark.PINKY_TIP].x,\n",
    "                results.multi_hand_landmarks[0].landmark[mp_hands.HandLandmark.PINKY_TIP].y,\n",
    "                results.multi_hand_landmarks[0].landmark[mp_hands.HandLandmark.PINKY_TIP ].z])\n",
    "            X.append(oldListToNewList(ListOfCoOrdinates))\n",
    "            Y.append(i)\n",
    "    print(alphabets[i])"
   ]
  },
  {
   "cell_type": "markdown",
   "metadata": {},
   "source": [
    "# Basic Structuring of Training Data"
   ]
  },
  {
   "cell_type": "code",
   "execution_count": 7,
   "metadata": {},
   "outputs": [],
   "source": [
    "X=np.array(X)\n",
    "Y=np.array(Y)"
   ]
  },
  {
   "cell_type": "code",
   "execution_count": 8,
   "metadata": {},
   "outputs": [],
   "source": [
    "X, Y = shuffle(X, Y)"
   ]
  },
  {
   "cell_type": "code",
   "execution_count": 9,
   "metadata": {},
   "outputs": [
    {
     "data": {
      "text/plain": [
       "(45543,)"
      ]
     },
     "execution_count": 9,
     "metadata": {},
     "output_type": "execute_result"
    }
   ],
   "source": [
    "Y.shape"
   ]
  },
  {
   "cell_type": "code",
   "execution_count": 10,
   "metadata": {},
   "outputs": [],
   "source": [
    "x_train, x_test, y_train, y_test = train_test_split(X, Y, test_size=0.2, random_state=1)"
   ]
  },
  {
   "cell_type": "code",
   "execution_count": 11,
   "metadata": {},
   "outputs": [],
   "source": [
    "x_train = x_train.reshape(-1, 231)\n",
    "x_test = x_test.reshape(-1, 231)"
   ]
  },
  {
   "cell_type": "markdown",
   "metadata": {},
   "source": [
    "# Simple Deep Learning Model"
   ]
  },
  {
   "cell_type": "code",
   "execution_count": 12,
   "metadata": {},
   "outputs": [
    {
     "name": "stdout",
     "output_type": "stream",
     "text": [
      "Epoch 1/40\n",
      "1139/1139 [==============================] - 1s 518us/step - loss: 2.0682 - accuracy: 0.6970\n",
      "Epoch 2/40\n",
      "1139/1139 [==============================] - 1s 512us/step - loss: 1.0456 - accuracy: 0.9276\n",
      "Epoch 3/40\n",
      "1139/1139 [==============================] - 1s 509us/step - loss: 0.6785 - accuracy: 0.9590\n",
      "Epoch 4/40\n",
      "1139/1139 [==============================] - 1s 514us/step - loss: 0.4901 - accuracy: 0.9697\n",
      "Epoch 5/40\n",
      "1139/1139 [==============================] - 1s 513us/step - loss: 0.3760 - accuracy: 0.9740\n",
      "Epoch 6/40\n",
      "1139/1139 [==============================] - 1s 530us/step - loss: 0.3005 - accuracy: 0.9768\n",
      "Epoch 7/40\n",
      "1139/1139 [==============================] - 1s 529us/step - loss: 0.2480 - accuracy: 0.9796\n",
      "Epoch 8/40\n",
      "1139/1139 [==============================] - 1s 509us/step - loss: 0.2096 - accuracy: 0.9806\n",
      "Epoch 9/40\n",
      "1139/1139 [==============================] - 1s 599us/step - loss: 0.1808 - accuracy: 0.9822\n",
      "Epoch 10/40\n",
      "1139/1139 [==============================] - 1s 555us/step - loss: 0.1586 - accuracy: 0.9833\n",
      "Epoch 11/40\n",
      "1139/1139 [==============================] - 1s 558us/step - loss: 0.1412 - accuracy: 0.9842\n",
      "Epoch 12/40\n",
      "1139/1139 [==============================] - 1s 566us/step - loss: 0.1271 - accuracy: 0.9848\n",
      "Epoch 13/40\n",
      "1139/1139 [==============================] - 1s 537us/step - loss: 0.1156 - accuracy: 0.9858\n",
      "Epoch 14/40\n",
      "1139/1139 [==============================] - 1s 538us/step - loss: 0.1061 - accuracy: 0.9866\n",
      "Epoch 15/40\n",
      "1139/1139 [==============================] - 1s 569us/step - loss: 0.0979 - accuracy: 0.9872\n",
      "Epoch 16/40\n",
      "1139/1139 [==============================] - 1s 697us/step - loss: 0.0910 - accuracy: 0.9876\n",
      "Epoch 17/40\n",
      "1139/1139 [==============================] - 1s 529us/step - loss: 0.0851 - accuracy: 0.9882\n",
      "Epoch 18/40\n",
      "1139/1139 [==============================] - 1s 535us/step - loss: 0.0798 - accuracy: 0.9887\n",
      "Epoch 19/40\n",
      "1139/1139 [==============================] - 1s 563us/step - loss: 0.0753 - accuracy: 0.9892\n",
      "Epoch 20/40\n",
      "1139/1139 [==============================] - 1s 531us/step - loss: 0.0712 - accuracy: 0.9895\n",
      "Epoch 21/40\n",
      "1139/1139 [==============================] - 1s 542us/step - loss: 0.0676 - accuracy: 0.9897\n",
      "Epoch 22/40\n",
      "1139/1139 [==============================] - 1s 525us/step - loss: 0.0642 - accuracy: 0.9904\n",
      "Epoch 23/40\n",
      "1139/1139 [==============================] - 1s 527us/step - loss: 0.0613 - accuracy: 0.9906\n",
      "Epoch 24/40\n",
      "1139/1139 [==============================] - 1s 516us/step - loss: 0.0586 - accuracy: 0.9911\n",
      "Epoch 25/40\n",
      "1139/1139 [==============================] - 1s 524us/step - loss: 0.0561 - accuracy: 0.9915\n",
      "Epoch 26/40\n",
      "1139/1139 [==============================] - 1s 527us/step - loss: 0.0539 - accuracy: 0.9920\n",
      "Epoch 27/40\n",
      "1139/1139 [==============================] - 1s 524us/step - loss: 0.0518 - accuracy: 0.9923\n",
      "Epoch 28/40\n",
      "1139/1139 [==============================] - 1s 536us/step - loss: 0.0499 - accuracy: 0.9925\n",
      "Epoch 29/40\n",
      "1139/1139 [==============================] - 1s 549us/step - loss: 0.0481 - accuracy: 0.9925\n",
      "Epoch 30/40\n",
      "1139/1139 [==============================] - 1s 523us/step - loss: 0.0464 - accuracy: 0.9927\n",
      "Epoch 31/40\n",
      "1139/1139 [==============================] - 1s 535us/step - loss: 0.0448 - accuracy: 0.9931\n",
      "Epoch 32/40\n",
      "1139/1139 [==============================] - 1s 530us/step - loss: 0.0434 - accuracy: 0.9932\n",
      "Epoch 33/40\n",
      "1139/1139 [==============================] - 1s 520us/step - loss: 0.0421 - accuracy: 0.9934\n",
      "Epoch 34/40\n",
      "1139/1139 [==============================] - 1s 529us/step - loss: 0.0407 - accuracy: 0.9938\n",
      "Epoch 35/40\n",
      "1139/1139 [==============================] - 1s 547us/step - loss: 0.0396 - accuracy: 0.9939\n",
      "Epoch 36/40\n",
      "1139/1139 [==============================] - 1s 547us/step - loss: 0.0384 - accuracy: 0.9941\n",
      "Epoch 37/40\n",
      "1139/1139 [==============================] - 1s 554us/step - loss: 0.0374 - accuracy: 0.9944\n",
      "Epoch 38/40\n",
      "1139/1139 [==============================] - 1s 537us/step - loss: 0.0363 - accuracy: 0.9946\n",
      "Epoch 39/40\n",
      "1139/1139 [==============================] - 1s 521us/step - loss: 0.0354 - accuracy: 0.9948\n",
      "Epoch 40/40\n",
      "1139/1139 [==============================] - 1s 566us/step - loss: 0.0345 - accuracy: 0.9951\n"
     ]
    },
    {
     "data": {
      "text/plain": [
       "<keras.callbacks.History at 0x1f88dcf82b0>"
      ]
     },
     "execution_count": 12,
     "metadata": {},
     "output_type": "execute_result"
    }
   ],
   "source": [
    "model = Sequential([\n",
    "    Dense(26, input_shape=(210+21,), activation='sigmoid')\n",
    "])\n",
    "\n",
    "model.compile(optimizer='adam',\n",
    "              loss='sparse_categorical_crossentropy',\n",
    "              metrics=['accuracy'])\n",
    "\n",
    "model.fit(x_train, y_train, epochs=40)"
   ]
  },
  {
   "cell_type": "code",
   "execution_count": 13,
   "metadata": {},
   "outputs": [
    {
     "name": "stdout",
     "output_type": "stream",
     "text": [
      "285/285 [==============================] - 0s 527us/step - loss: 0.0412 - accuracy: 0.9936\n"
     ]
    },
    {
     "data": {
      "text/plain": [
       "[0.0411786250770092, 0.9936326742172241]"
      ]
     },
     "execution_count": 13,
     "metadata": {},
     "output_type": "execute_result"
    }
   ],
   "source": [
    "model.evaluate(x_test, y_test)"
   ]
  },
  {
   "cell_type": "markdown",
   "metadata": {},
   "source": [
    "# The Final Output Video "
   ]
  },
  {
   "cell_type": "code",
   "execution_count": 14,
   "metadata": {},
   "outputs": [],
   "source": [
    "imageLinks=[]\n",
    "for i in range(26):\n",
    "    mypath='D:/HandPhotos/outputImages/'+alphabets[i]+'.jpg'\n",
    "    img=cv2.imread(mypath)\n",
    "    imageLinks.append(img)\n",
    "nothing=cv2.imread('D:/HandPhotos/outputImages/nothing.jpg')"
   ]
  },
  {
   "cell_type": "code",
   "execution_count": null,
   "metadata": {},
   "outputs": [],
   "source": [
    "# your video link\n",
    "cam = cv2.VideoCapture(r'D:\\HandPhotos\\output2.mp4') \n",
    "while(True): \n",
    "\n",
    "    # reading from frame \n",
    "    ret,frame = cam.read() \n",
    "    \n",
    "    if ret: \n",
    "        # if video is still left continue creating images \n",
    "        frame = cv2.resize(frame, (1000, 600))\n",
    "        img = cv2.cvtColor(frame, cv2.COLOR_BGR2RGB)\n",
    "        with mp_hands.Hands(min_detection_confidence=0.9, min_tracking_confidence=0.8) as hands:\n",
    "            results = hands.process(img)\n",
    "            ListOfCoOrdinates=[]\n",
    "            if (results.multi_hand_landmarks!=None):\n",
    "                ListOfCoOrdinates.append([results.multi_hand_landmarks[0].landmark[mp_hands.HandLandmark.WRIST].x,\n",
    "                    results.multi_hand_landmarks[0].landmark[mp_hands.HandLandmark.WRIST].y,\n",
    "                    results.multi_hand_landmarks[0].landmark[mp_hands.HandLandmark.WRIST].z])\n",
    "                ListOfCoOrdinates.append([results.multi_hand_landmarks[0].landmark[mp_hands.HandLandmark.THUMB_CMC].x,\n",
    "                    results.multi_hand_landmarks[0].landmark[mp_hands.HandLandmark.THUMB_CMC].y,\n",
    "                    results.multi_hand_landmarks[0].landmark[mp_hands.HandLandmark.THUMB_CMC].z])\n",
    "                ListOfCoOrdinates.append([results.multi_hand_landmarks[0].landmark[mp_hands.HandLandmark.THUMB_MCP].x,\n",
    "                    results.multi_hand_landmarks[0].landmark[mp_hands.HandLandmark.THUMB_MCP].y,\n",
    "                    results.multi_hand_landmarks[0].landmark[mp_hands.HandLandmark.THUMB_MCP].z])\n",
    "                ListOfCoOrdinates.append([results.multi_hand_landmarks[0].landmark[mp_hands.HandLandmark.THUMB_IP].x,\n",
    "                    results.multi_hand_landmarks[0].landmark[mp_hands.HandLandmark.THUMB_IP].y,\n",
    "                    results.multi_hand_landmarks[0].landmark[mp_hands.HandLandmark.THUMB_IP].z])\n",
    "                ListOfCoOrdinates.append([results.multi_hand_landmarks[0].landmark[mp_hands.HandLandmark.THUMB_TIP].x,\n",
    "                    results.multi_hand_landmarks[0].landmark[mp_hands.HandLandmark.THUMB_TIP].y,\n",
    "                    results.multi_hand_landmarks[0].landmark[mp_hands.HandLandmark.THUMB_TIP].z])\n",
    "                ListOfCoOrdinates.append([results.multi_hand_landmarks[0].landmark[mp_hands.HandLandmark.INDEX_FINGER_MCP].x,\n",
    "                    results.multi_hand_landmarks[0].landmark[mp_hands.HandLandmark.INDEX_FINGER_MCP].y,\n",
    "                    results.multi_hand_landmarks[0].landmark[mp_hands.HandLandmark.INDEX_FINGER_MCP].z])\n",
    "                ListOfCoOrdinates.append([results.multi_hand_landmarks[0].landmark[mp_hands.HandLandmark.INDEX_FINGER_PIP].x,\n",
    "                    results.multi_hand_landmarks[0].landmark[mp_hands.HandLandmark.INDEX_FINGER_PIP].y,\n",
    "                    results.multi_hand_landmarks[0].landmark[mp_hands.HandLandmark.INDEX_FINGER_PIP].z])\n",
    "                ListOfCoOrdinates.append([results.multi_hand_landmarks[0].landmark[mp_hands.HandLandmark.INDEX_FINGER_DIP].x,\n",
    "                    results.multi_hand_landmarks[0].landmark[mp_hands.HandLandmark.INDEX_FINGER_DIP].y,\n",
    "                    results.multi_hand_landmarks[0].landmark[mp_hands.HandLandmark.INDEX_FINGER_DIP].z])\n",
    "                ListOfCoOrdinates.append([results.multi_hand_landmarks[0].landmark[mp_hands.HandLandmark.INDEX_FINGER_TIP].x,\n",
    "                    results.multi_hand_landmarks[0].landmark[mp_hands.HandLandmark.INDEX_FINGER_TIP].y,\n",
    "                    results.multi_hand_landmarks[0].landmark[mp_hands.HandLandmark.INDEX_FINGER_TIP].z])\n",
    "                ListOfCoOrdinates.append([results.multi_hand_landmarks[0].landmark[mp_hands.HandLandmark.MIDDLE_FINGER_MCP].x,\n",
    "                    results.multi_hand_landmarks[0].landmark[mp_hands.HandLandmark.MIDDLE_FINGER_MCP].y,\n",
    "                    results.multi_hand_landmarks[0].landmark[mp_hands.HandLandmark.MIDDLE_FINGER_MCP].z])\n",
    "                ListOfCoOrdinates.append([results.multi_hand_landmarks[0].landmark[mp_hands.HandLandmark.MIDDLE_FINGER_PIP].x,\n",
    "                    results.multi_hand_landmarks[0].landmark[mp_hands.HandLandmark.MIDDLE_FINGER_PIP].y,\n",
    "                    results.multi_hand_landmarks[0].landmark[mp_hands.HandLandmark.MIDDLE_FINGER_PIP].z])\n",
    "                ListOfCoOrdinates.append([results.multi_hand_landmarks[0].landmark[mp_hands.HandLandmark.MIDDLE_FINGER_DIP].x,\n",
    "                    results.multi_hand_landmarks[0].landmark[mp_hands.HandLandmark.MIDDLE_FINGER_DIP].y,\n",
    "                    results.multi_hand_landmarks[0].landmark[mp_hands.HandLandmark.MIDDLE_FINGER_DIP].z])\n",
    "                ListOfCoOrdinates.append([results.multi_hand_landmarks[0].landmark[mp_hands.HandLandmark.MIDDLE_FINGER_TIP].x,\n",
    "                    results.multi_hand_landmarks[0].landmark[mp_hands.HandLandmark.MIDDLE_FINGER_TIP].y,\n",
    "                    results.multi_hand_landmarks[0].landmark[mp_hands.HandLandmark.MIDDLE_FINGER_TIP].z])\n",
    "                ListOfCoOrdinates.append([results.multi_hand_landmarks[0].landmark[mp_hands.HandLandmark.RING_FINGER_MCP].x,\n",
    "                    results.multi_hand_landmarks[0].landmark[mp_hands.HandLandmark.RING_FINGER_MCP].y,\n",
    "                    results.multi_hand_landmarks[0].landmark[mp_hands.HandLandmark.RING_FINGER_MCP].z])\n",
    "                ListOfCoOrdinates.append([results.multi_hand_landmarks[0].landmark[mp_hands.HandLandmark.RING_FINGER_PIP].x,\n",
    "                    results.multi_hand_landmarks[0].landmark[mp_hands.HandLandmark.RING_FINGER_PIP].y,\n",
    "                    results.multi_hand_landmarks[0].landmark[mp_hands.HandLandmark.RING_FINGER_PIP].z])\n",
    "                ListOfCoOrdinates.append([results.multi_hand_landmarks[0].landmark[mp_hands.HandLandmark.RING_FINGER_DIP].x,\n",
    "                    results.multi_hand_landmarks[0].landmark[mp_hands.HandLandmark.RING_FINGER_DIP].y,\n",
    "                    results.multi_hand_landmarks[0].landmark[mp_hands.HandLandmark.RING_FINGER_DIP].z])\n",
    "                ListOfCoOrdinates.append([results.multi_hand_landmarks[0].landmark[mp_hands.HandLandmark.RING_FINGER_TIP].x,\n",
    "                    results.multi_hand_landmarks[0].landmark[mp_hands.HandLandmark.RING_FINGER_TIP].y,\n",
    "                    results.multi_hand_landmarks[0].landmark[mp_hands.HandLandmark.RING_FINGER_TIP].z])\n",
    "                ListOfCoOrdinates.append([results.multi_hand_landmarks[0].landmark[mp_hands.HandLandmark.PINKY_MCP].x,\n",
    "                    results.multi_hand_landmarks[0].landmark[mp_hands.HandLandmark.PINKY_MCP].y,\n",
    "                    results.multi_hand_landmarks[0].landmark[mp_hands.HandLandmark.PINKY_MCP ].z])\n",
    "                ListOfCoOrdinates.append([results.multi_hand_landmarks[0].landmark[mp_hands.HandLandmark.PINKY_PIP].x,\n",
    "                    results.multi_hand_landmarks[0].landmark[mp_hands.HandLandmark.PINKY_PIP].y,\n",
    "                    results.multi_hand_landmarks[0].landmark[mp_hands.HandLandmark.PINKY_PIP ].z])\n",
    "                ListOfCoOrdinates.append([results.multi_hand_landmarks[0].landmark[mp_hands.HandLandmark.PINKY_DIP].x,\n",
    "                    results.multi_hand_landmarks[0].landmark[mp_hands.HandLandmark.PINKY_DIP].y,\n",
    "                    results.multi_hand_landmarks[0].landmark[mp_hands.HandLandmark.PINKY_DIP ].z])\n",
    "                ListOfCoOrdinates.append([results.multi_hand_landmarks[0].landmark[mp_hands.HandLandmark.PINKY_TIP].x,\n",
    "                    results.multi_hand_landmarks[0].landmark[mp_hands.HandLandmark.PINKY_TIP].y,\n",
    "                    results.multi_hand_landmarks[0].landmark[mp_hands.HandLandmark.PINKY_TIP ].z])\n",
    "                stored=oldListToNewList(ListOfCoOrdinates)\n",
    "                stored=np.array(stored)\n",
    "                stored = stored.reshape(-1, 231)\n",
    "                image = cv2.resize(frame, (1000, 600))\n",
    "                if (max(model.predict(stored)[0])>=0.6):\n",
    "                    predicted=np.argmax(model.predict(stored)[0])\n",
    "                    image[0:200,0:200]=imageLinks[predicted]\n",
    "                else:\n",
    "                    image[0:200,0:200]=nothing\n",
    "            else:\n",
    "                image = cv2.resize(frame, (1000, 600))\n",
    "                image[0:200,0:200]=nothing\n",
    "            # image=cv2.putText(image,text,(100,100),cv2.FONT_HERSHEY_SIMPLEX,1,(0,0,0),2)\n",
    "            cv2.imshow('Hand Tracking', image)\n",
    "            cv2.waitKey(1)\n",
    "    else: \n",
    "        break\n",
    "\n",
    "# Release all space and windows once done \n",
    "cam.release() \n",
    "cv2.destroyAllWindows() "
   ]
  },
  {
   "cell_type": "code",
   "execution_count": null,
   "metadata": {},
   "outputs": [],
   "source": []
  }
 ],
 "metadata": {
  "kernelspec": {
   "display_name": "Python 3",
   "language": "python",
   "name": "python3"
  },
  "language_info": {
   "codemirror_mode": {
    "name": "ipython",
    "version": 3
   },
   "file_extension": ".py",
   "mimetype": "text/x-python",
   "name": "python",
   "nbconvert_exporter": "python",
   "pygments_lexer": "ipython3",
   "version": "3.8.5"
  }
 },
 "nbformat": 4,
 "nbformat_minor": 4
}
