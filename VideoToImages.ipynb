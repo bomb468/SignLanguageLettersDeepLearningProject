{
 "cells": [
  {
   "cell_type": "code",
   "execution_count": 1,
   "metadata": {},
   "outputs": [],
   "source": [
    "# Importing all necessary libraries \n",
    "import cv2 \n",
    "import os \n",
    "\n",
    "# Read the video from specified path \n",
    "cam = cv2.VideoCapture(r'D:\\HandPhotos\\output2.mp4') \n",
    "\n",
    "# frame \n",
    "currentframe = 0\n",
    "\n",
    "while(True): \n",
    "\n",
    "    # reading from frame \n",
    "    ret,frame = cam.read() \n",
    "\n",
    "    if ret: \n",
    "        frame = cv2.resize(frame, (1000, 600))\n",
    "        # enter the foler where you want to store the frames from the video\n",
    "        name = 'D:/HandPhotos/nothing/r' + str(currentframe) + '.jpg'\n",
    "        print ('Creating...' + name) \n",
    "\n",
    "         writing the extracted images \n",
    "        cv2.imwrite(name, frame)\n",
    "        # flipping so that our model will work on both left and right hands\n",
    "        frame= cv2.flip(frame, 1)\n",
    "        name = 'D:/HandPhotos/nothing/l' + str(currentframe) + '.jpg'\n",
    "        # saving the frame of that video to the specified folder\n",
    "        cv2.imwrite(name, frame)\n",
    "        # increasing counter so that it will show how many frames are created \n",
    "        currentframe += 1\n",
    "    else: \n",
    "        break\n",
    "\n",
    "# Release all space and windows once done \n",
    "cam.release() \n",
    "cv2.destroyAllWindows() "
   ]
  },
  {
   "cell_type": "code",
   "execution_count": null,
   "metadata": {},
   "outputs": [],
   "source": []
  }
 ],
 "metadata": {
  "kernelspec": {
   "display_name": "Python 3",
   "language": "python",
   "name": "python3"
  },
  "language_info": {
   "codemirror_mode": {
    "name": "ipython",
    "version": 3
   },
   "file_extension": ".py",
   "mimetype": "text/x-python",
   "name": "python",
   "nbconvert_exporter": "python",
   "pygments_lexer": "ipython3",
   "version": "3.8.5"
  }
 },
 "nbformat": 4,
 "nbformat_minor": 4
}
